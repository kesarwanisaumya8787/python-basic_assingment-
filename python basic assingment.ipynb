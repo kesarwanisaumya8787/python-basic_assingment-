{
 "cells": [
  {
   "cell_type": "code",
   "execution_count": 83,
   "id": "06fa11f7-dfce-46f6-ab1d-ef90860e810b",
   "metadata": {},
   "outputs": [],
   "source": [
    "#1 Explain the key features of Python that make it a popular choice for programming\n",
    " \n",
    "    \n",
    "   \n",
    " # Python has gained immense popularity in the programming community due to several key features that make it highly versatile, \n",
    " # efficient, and easy to use.\n",
    " # Here are some of the key features of Python that contribute to its popularity:\n",
    "             \n",
    " #(a) Readability and Simplicity:\n",
    " # Python emphasizes readability and simplicity of code, which makes it easier to understand and write, even for beginners. \n",
    " # Its syntax is clean and uncluttered, with a clear and consistent structure that reduces the cost of program maintenance.\n",
    "    \n",
    " #(b) Large Standard Library:\n",
    " # It comes with a large standard library that provides a wide range of modules and packages for tasks such as string manipulation,\n",
    " # web services, and more.\n",
    " # This reduces the need for developers to write code from scratch for common tasks and promotes code reuse.\n",
    "                       \n",
    " #(c) Platform Independence:\n",
    " # It is platform-independent, meaning you can write code on one platform (like Windows) and run it on another (like Linux)\n",
    " # without any changes. \n",
    " # This portability is facilitated by the Python interpreter and the availability of interpreters for most platforms.\n",
    "               \n",
    " #(d) Libraries and Frameworks:\n",
    " # It has a rich ecosystem of third-party libraries and frameworks that extend its functionality for specific domains such as\n",
    " # web development(Django, Flask), scientific computing (NumPy, SciPy), data analysis (Pandas), machine learning\n",
    " # (TensorFlow, PyTorch), and more.\n",
    " # These libraries significantly accelerate development by providing pre-written modules for common tasks.\n",
    "    \n",
    " #(e) Community and Support: \n",
    " # It has a large and active community of developers who contribute to its growth and development.\n",
    " # This community provides support through forums, user groups, conferences, and online resources, making it easier to find\n",
    " # solutions to problems and stay updated with the latest trends.\n",
    "             \n",
    " #(f) Cross-Platform Compatibility:\n",
    " # It is available on various platforms, including Windows, macOS, and Linux.\n",
    " # This cross-platform compatibility allows developers to write code that can run on different operating systems without\n",
    " # modification.\n",
    "            \n",
    "            \n",
    "            \n",
    "            \n",
    "            \n",
    "#2 Describe the role of predefined keywords in Python and provide examples of how they are used in a program\n",
    "   \n",
    "    \n",
    "    \n",
    "    \n",
    "    \n",
    "# ROLE OF PREDEFINED KEYWORDS IN PYTHON :\n",
    "            \n",
    "#. Predefined keywords are special words that are reserved by the language for its own.\n",
    "#. Keywords are reserved words in Python that have special meanings and cannot be used as identifiers (variable names, function names,etc).                                                                                                     \n",
    "#. They are case-sensitive and cannot be redefined or overridden within a Python program.\n",
    "#. Examples of keywords include if, else, while, for, def, class, import, try, except, return, True, False, None, etc.\n",
    "    \n",
    "# SOME EXAMPLES ARE GIVEN BELOW :\n",
    "                "
   ]
  },
  {
   "cell_type": "code",
   "execution_count": 80,
   "id": "fddfde1d-8e46-4083-ba46-512052b36a9e",
   "metadata": {},
   "outputs": [
    {
     "data": {
      "text/plain": [
       "int"
      ]
     },
     "execution_count": 80,
     "metadata": {},
     "output_type": "execute_result"
    }
   ],
   "source": [
    "#int,float,string (datatypes):\n",
    "\n",
    "x = 1\n",
    "x\n",
    "type (x)"
   ]
  },
  {
   "cell_type": "code",
   "execution_count": 17,
   "id": "ad5873b5-6a81-4784-88c7-5f3f66d2d880",
   "metadata": {},
   "outputs": [
    {
     "data": {
      "text/plain": [
       "str"
      ]
     },
     "execution_count": 17,
     "metadata": {},
     "output_type": "execute_result"
    }
   ],
   "source": [
    "a = (\"saumya.\")\n",
    "type(a)"
   ]
  },
  {
   "cell_type": "code",
   "execution_count": 22,
   "id": "01a88e85-053c-49b6-9adc-973b979f42f2",
   "metadata": {},
   "outputs": [
    {
     "data": {
      "text/plain": [
       "float"
      ]
     },
     "execution_count": 22,
     "metadata": {},
     "output_type": "execute_result"
    }
   ],
   "source": [
    "x=2.1\n",
    "y=3\n",
    "x+y\n",
    "type (x+y)"
   ]
  },
  {
   "cell_type": "code",
   "execution_count": 28,
   "id": "024e2398-7508-44db-9df5-93cdd8f653aa",
   "metadata": {},
   "outputs": [
    {
     "name": "stdout",
     "output_type": "stream",
     "text": [
      "true\n"
     ]
    }
   ],
   "source": [
    "#boolean and none type:\n",
    "\n",
    "2==2\n",
    "print ('true')"
   ]
  },
  {
   "cell_type": "code",
   "execution_count": 31,
   "id": "36f20837-dbeb-4c81-8311-363da85b996f",
   "metadata": {},
   "outputs": [
    {
     "name": "stdout",
     "output_type": "stream",
     "text": [
      "false\n"
     ]
    }
   ],
   "source": [
    " 10>11\n",
    "print ('false')\n"
   ]
  },
  {
   "cell_type": "code",
   "execution_count": 32,
   "id": "5f130726-9be3-4387-8930-a36c03f31d75",
   "metadata": {},
   "outputs": [
    {
     "name": "stdout",
     "output_type": "stream",
     "text": [
      "none\n"
     ]
    }
   ],
   "source": [
    "x=1\n",
    "y=2\n",
    "x>y\n",
    "print ('none')\n"
   ]
  },
  {
   "cell_type": "code",
   "execution_count": 36,
   "id": "3edd23af-c2d3-48d6-8673-5abfc9369c88",
   "metadata": {},
   "outputs": [
    {
     "name": "stdout",
     "output_type": "stream",
     "text": [
      "saumya kesarwani!!\n"
     ]
    }
   ],
   "source": [
    "print ('saumya kesarwani!!')\n"
   ]
  },
  {
   "cell_type": "code",
   "execution_count": 37,
   "id": "3d02bfbb-1f29-43a2-b535-baed0df255ce",
   "metadata": {},
   "outputs": [
    {
     "data": {
      "text/plain": [
       "4"
      ]
     },
     "execution_count": 37,
     "metadata": {},
     "output_type": "execute_result"
    }
   ],
   "source": [
    "a=6\n",
    "b=2\n",
    "a-b"
   ]
  },
  {
   "cell_type": "code",
   "execution_count": 39,
   "id": "ef184e44-fd56-4057-8077-e1d75c074135",
   "metadata": {},
   "outputs": [
    {
     "data": {
      "text/plain": [
       "'6'"
      ]
     },
     "execution_count": 39,
     "metadata": {},
     "output_type": "execute_result"
    }
   ],
   "source": [
    "str(a)"
   ]
  },
  {
   "cell_type": "code",
   "execution_count": 40,
   "id": "2f6cfb8d-4853-4363-80fb-f262d6ecd96b",
   "metadata": {},
   "outputs": [
    {
     "data": {
      "text/plain": [
       "4.0"
      ]
     },
     "execution_count": 40,
     "metadata": {},
     "output_type": "execute_result"
    }
   ],
   "source": [
    "float(a-b)\n"
   ]
  },
  {
   "cell_type": "code",
   "execution_count": 41,
   "id": "9d9ea3c5-8a30-4929-9837-82b96e8338b9",
   "metadata": {},
   "outputs": [
    {
     "data": {
      "text/plain": [
       "6"
      ]
     },
     "execution_count": 41,
     "metadata": {},
     "output_type": "execute_result"
    }
   ],
   "source": [
    "#for multiply,devide:\n",
    "\n",
    "p=3\n",
    "q=2\n",
    "p*q"
   ]
  },
  {
   "cell_type": "code",
   "execution_count": 45,
   "id": "36a15fdd-03cf-433e-afaf-fdff421b4655",
   "metadata": {},
   "outputs": [
    {
     "data": {
      "text/plain": [
       "3.0"
      ]
     },
     "execution_count": 45,
     "metadata": {},
     "output_type": "execute_result"
    }
   ],
   "source": [
    "p=6\n",
    "q=2\n",
    "p/q"
   ]
  },
  {
   "cell_type": "code",
   "execution_count": 46,
   "id": "acef476e-b34e-4d52-b4e7-21929fb9dc36",
   "metadata": {},
   "outputs": [
    {
     "data": {
      "text/plain": [
       "3"
      ]
     },
     "execution_count": 46,
     "metadata": {},
     "output_type": "execute_result"
    }
   ],
   "source": [
    "int(p/q)"
   ]
  },
  {
   "cell_type": "code",
   "execution_count": 47,
   "id": "0db8c4ff-05b2-45bb-bdeb-6c8c75b86220",
   "metadata": {},
   "outputs": [
    {
     "data": {
      "text/plain": [
       "'3'"
      ]
     },
     "execution_count": 47,
     "metadata": {},
     "output_type": "execute_result"
    }
   ],
   "source": [
    "str(3)"
   ]
  },
  {
   "cell_type": "code",
   "execution_count": null,
   "id": "c077bd28-80da-4bc9-bf2c-442d8c63e0ef",
   "metadata": {},
   "outputs": [],
   "source": [
    "#3 Compare and contrast mutable and immutable objects in Python with examples\n",
    "\n",
    "\n",
    "\n",
    "# Mutable Objects:\n",
    "# Mutable objects are objects whose state or contents can be changed after they are created.This means that you can modify\n",
    "# a mutable object after it has been created without creating a new object. Some examples of mutable objects in Python include\n",
    "# lists, dictionaries, sets, and byte arrays.\n",
    "\n",
    "# Here’s an example of a mutable object :"
   ]
  },
  {
   "cell_type": "code",
   "execution_count": 48,
   "id": "71ecf3e7-5e04-4b4d-b8bc-44517da82671",
   "metadata": {},
   "outputs": [
    {
     "data": {
      "text/plain": [
       "'saumya'"
      ]
     },
     "execution_count": 48,
     "metadata": {},
     "output_type": "execute_result"
    }
   ],
   "source": [
    "#example with relate to -indices and +indices:\n",
    "a='saumya'\n",
    "a"
   ]
  },
  {
   "cell_type": "code",
   "execution_count": 49,
   "id": "78a7931e-e7ba-44f9-b94d-05178c4678f5",
   "metadata": {},
   "outputs": [
    {
     "data": {
      "text/plain": [
       "'s'"
      ]
     },
     "execution_count": 49,
     "metadata": {},
     "output_type": "execute_result"
    }
   ],
   "source": [
    "a[0]"
   ]
  },
  {
   "cell_type": "code",
   "execution_count": 50,
   "id": "228479a8-fd79-46d0-b7f2-4a4bb450dba9",
   "metadata": {},
   "outputs": [
    {
     "data": {
      "text/plain": [
       "'a'"
      ]
     },
     "execution_count": 50,
     "metadata": {},
     "output_type": "execute_result"
    }
   ],
   "source": [
    "a[5]"
   ]
  },
  {
   "cell_type": "code",
   "execution_count": 63,
   "id": "99b8ba40-0264-4e8c-9da5-aecc519e0cf8",
   "metadata": {},
   "outputs": [
    {
     "data": {
      "text/plain": [
       "2"
      ]
     },
     "execution_count": 63,
     "metadata": {},
     "output_type": "execute_result"
    }
   ],
   "source": [
    "#for changing anything in index element:\n",
    "list_cont = [1,2,3,4.3,3+5j,\"true\",\"saumya\"]\n",
    "list_cont[1]"
   ]
  },
  {
   "cell_type": "code",
   "execution_count": 65,
   "id": "a366d2e0-68af-4d67-b233-0d8c530cfe0d",
   "metadata": {},
   "outputs": [
    {
     "data": {
      "text/plain": [
       "[1, 2.5, 3, 4.3, (3+5j), 'true', 'saumya']"
      ]
     },
     "execution_count": 65,
     "metadata": {},
     "output_type": "execute_result"
    }
   ],
   "source": [
    "#mutability\n",
    "list_cont [1]=2.5\n",
    "list_cont\n"
   ]
  },
  {
   "cell_type": "code",
   "execution_count": 70,
   "id": "7fcc8518-f6c4-4c07-b5b6-1a1a9098ae02",
   "metadata": {},
   "outputs": [
    {
     "data": {
      "text/plain": [
       "list"
      ]
     },
     "execution_count": 70,
     "metadata": {},
     "output_type": "execute_result"
    }
   ],
   "source": [
    "type(list_cont)"
   ]
  },
  {
   "cell_type": "code",
   "execution_count": 77,
   "id": "dca80d48-01ba-4d15-9131-9fe4b838ba77",
   "metadata": {},
   "outputs": [],
   "source": [
    "# Immutable Objects:\n",
    "# Immutable objects are objects whose state cannot be modified after they are created. \n",
    "# Any operation that appears to modify an immutable object actually creates a new object with the modified value.\n",
    "\n",
    "# Here’s an example of a Immutable object :"
   ]
  },
  {
   "cell_type": "code",
   "execution_count": 84,
   "id": "c4dc1e06-eb04-4dc0-879c-08311311a40d",
   "metadata": {},
   "outputs": [
    {
     "data": {
      "text/plain": [
       "'pwskills'"
      ]
     },
     "execution_count": 84,
     "metadata": {},
     "output_type": "execute_result"
    }
   ],
   "source": [
    "b=\"pwskills\"\n",
    "b"
   ]
  },
  {
   "cell_type": "code",
   "execution_count": 85,
   "id": "ff0e5e21-183d-4350-b7ad-5b2cf2d6c181",
   "metadata": {},
   "outputs": [
    {
     "ename": "TypeError",
     "evalue": "'str' object does not support item assignment",
     "output_type": "error",
     "traceback": [
      "\u001b[0;31m---------------------------------------------------------------------------\u001b[0m",
      "\u001b[0;31mTypeError\u001b[0m                                 Traceback (most recent call last)",
      "Cell \u001b[0;32mIn[85], line 3\u001b[0m\n\u001b[1;32m      1\u001b[0m \u001b[38;5;66;03m#if we want to change only one letter of the word then it does't change\u001b[39;00m\n\u001b[0;32m----> 3\u001b[0m \u001b[43mb\u001b[49m\u001b[43m[\u001b[49m\u001b[38;5;241;43m1\u001b[39;49m\u001b[43m]\u001b[49m\u001b[38;5;241m=\u001b[39m\u001b[38;5;124m\"\u001b[39m\u001b[38;5;124mn\u001b[39m\u001b[38;5;124m\"\u001b[39m\n",
      "\u001b[0;31mTypeError\u001b[0m: 'str' object does not support item assignment"
     ]
    }
   ],
   "source": [
    "#if we want to change only one letter of the word then it does't change\n",
    "#immutability\n",
    "b[1]=\"n\""
   ]
  },
  {
   "cell_type": "code",
   "execution_count": 1,
   "id": "726b124d-7677-41d4-b8e6-594f7c5d8467",
   "metadata": {},
   "outputs": [
    {
     "data": {
      "text/plain": [
       "5"
      ]
     },
     "execution_count": 1,
     "metadata": {},
     "output_type": "execute_result"
    }
   ],
   "source": [
    "#4 Discuss the different types of operators in Python and provide examples of how they are used\n",
    "\n",
    "\n",
    "\n",
    "\n",
    "# In Python, operators are symbols or keywords that perform operations on variables and values.\n",
    "# They can be categorized into several types based on their functionality. Here are the main types of operators in Python\n",
    "# with examples:\n",
    "\n",
    "#a- Arithmetic Operators:  they are used for mathematical operations like addition, subtraction,\n",
    "# multiplication, division, etc.\n",
    "  \n",
    "#examples:\n",
    "\n",
    "#addition(+)\n",
    "a=3\n",
    "b=2\n",
    "a+b"
   ]
  },
  {
   "cell_type": "code",
   "execution_count": 2,
   "id": "af5a257d-ca0c-42ca-880a-91154d5aac78",
   "metadata": {},
   "outputs": [
    {
     "data": {
      "text/plain": [
       "5"
      ]
     },
     "execution_count": 2,
     "metadata": {},
     "output_type": "execute_result"
    }
   ],
   "source": [
    "add=a+b\n",
    "add"
   ]
  },
  {
   "cell_type": "code",
   "execution_count": 3,
   "id": "91c75f6d-b856-4031-a778-8698e3dc2b07",
   "metadata": {},
   "outputs": [
    {
     "data": {
      "text/plain": [
       "1"
      ]
     },
     "execution_count": 3,
     "metadata": {},
     "output_type": "execute_result"
    }
   ],
   "source": [
    "#substraction(-)\n",
    "a=3\n",
    "b=2\n",
    "a-b"
   ]
  },
  {
   "cell_type": "code",
   "execution_count": 4,
   "id": "799dae30-2b66-4702-ae46-aeeef194f9c8",
   "metadata": {},
   "outputs": [
    {
     "data": {
      "text/plain": [
       "1"
      ]
     },
     "execution_count": 4,
     "metadata": {},
     "output_type": "execute_result"
    }
   ],
   "source": [
    "sub=a-b\n",
    "sub"
   ]
  },
  {
   "cell_type": "code",
   "execution_count": 5,
   "id": "2c67e94f-c073-45a3-a4fa-3c80c0f342b0",
   "metadata": {},
   "outputs": [
    {
     "data": {
      "text/plain": [
       "6"
      ]
     },
     "execution_count": 5,
     "metadata": {},
     "output_type": "execute_result"
    }
   ],
   "source": [
    "#multiply(*)\n",
    "a=3\n",
    "b=2\n",
    "a*b"
   ]
  },
  {
   "cell_type": "code",
   "execution_count": 6,
   "id": "928b025d-81ea-496f-b8e0-1ada5756506e",
   "metadata": {},
   "outputs": [
    {
     "data": {
      "text/plain": [
       "6"
      ]
     },
     "execution_count": 6,
     "metadata": {},
     "output_type": "execute_result"
    }
   ],
   "source": [
    "mul=a*b\n",
    "mul"
   ]
  },
  {
   "cell_type": "code",
   "execution_count": 7,
   "id": "cf964d68-d3a5-4642-969c-8b9757467fd2",
   "metadata": {},
   "outputs": [
    {
     "data": {
      "text/plain": [
       "5.0"
      ]
     },
     "execution_count": 7,
     "metadata": {},
     "output_type": "execute_result"
    }
   ],
   "source": [
    "#division(/)\n",
    "20/4"
   ]
  },
  {
   "cell_type": "code",
   "execution_count": 8,
   "id": "f6a02fae-41f0-4df8-974d-acd90e46abba",
   "metadata": {},
   "outputs": [
    {
     "data": {
      "text/plain": [
       "1"
      ]
     },
     "execution_count": 8,
     "metadata": {},
     "output_type": "execute_result"
    }
   ],
   "source": [
    "#modulus operator(%) >> for remainder\n",
    "21%5"
   ]
  },
  {
   "cell_type": "code",
   "execution_count": 9,
   "id": "640d0f30-31c6-4c6e-ac37-8f6eb065ce65",
   "metadata": {},
   "outputs": [
    {
     "data": {
      "text/plain": [
       "25"
      ]
     },
     "execution_count": 9,
     "metadata": {},
     "output_type": "execute_result"
    }
   ],
   "source": [
    "#exponential(**) >> for power\n",
    "5**2"
   ]
  },
  {
   "cell_type": "code",
   "execution_count": 10,
   "id": "2321fae2-b554-4ca6-816a-22c8d0384a66",
   "metadata": {},
   "outputs": [
    {
     "data": {
      "text/plain": [
       "1.3333333333333333"
      ]
     },
     "execution_count": 10,
     "metadata": {},
     "output_type": "execute_result"
    }
   ],
   "source": [
    "#floor (//) >> for nearest number\n",
    "4/3"
   ]
  },
  {
   "cell_type": "code",
   "execution_count": 11,
   "id": "f4894a44-c952-418c-8ba9-d4d2fe74e77a",
   "metadata": {},
   "outputs": [
    {
     "data": {
      "text/plain": [
       "1"
      ]
     },
     "execution_count": 11,
     "metadata": {},
     "output_type": "execute_result"
    }
   ],
   "source": [
    "4//3"
   ]
  },
  {
   "cell_type": "code",
   "execution_count": 37,
   "id": "8c7da06d-6100-4186-9346-7852adeafbe2",
   "metadata": {},
   "outputs": [
    {
     "name": "stdout",
     "output_type": "stream",
     "text": [
      "True\n",
      "False\n",
      "False\n",
      "True\n",
      "True\n",
      "False\n"
     ]
    }
   ],
   "source": [
    "#b- Comparison Operators:  they are used to compare values , return either True or False.\n",
    "\n",
    "#example:\n",
    "\n",
    "a=10\n",
    "b=3\n",
    "print(a>b)    #greater than\n",
    "print(a<b)    #less than\n",
    "print(a==b)   #equal to\n",
    "print(a!=b)   #not equal to\n",
    "print(a>=b)   #greater than or equal to\n",
    "print(a<=b)   #less than or equal to"
   ]
  },
  {
   "cell_type": "code",
   "execution_count": 39,
   "id": "4d3541b5-f793-43de-bfe9-39f96828be63",
   "metadata": {},
   "outputs": [
    {
     "name": "stdout",
     "output_type": "stream",
     "text": [
      "False\n",
      "True\n",
      "False\n"
     ]
    }
   ],
   "source": [
    "#c- Logical Operators:  they are used to combine conditional statements.\n",
    "\n",
    "#examples:\n",
    "\n",
    "x=True\n",
    "y=False\n",
    "print(x and y)   #logical AND\n",
    "print(x or y)    #logical OR\n",
    "print(not x)     #logical NOT"
   ]
  },
  {
   "cell_type": "code",
   "execution_count": 62,
   "id": "0375be82-9f93-4f97-9f69-bce5dcdce640",
   "metadata": {},
   "outputs": [
    {
     "name": "stdout",
     "output_type": "stream",
     "text": [
      "6\n",
      "12\n",
      "0\n",
      "1.0\n",
      "80\n"
     ]
    }
   ],
   "source": [
    "#d- Assingment operators:  they are used to assign values to variables.\n",
    "\n",
    "#examples:\n",
    "\n",
    "a = 6 \n",
    "print (a)\n",
    "a+=6\n",
    "print(a)\n",
    "\n",
    "b = 2\n",
    "b-=2\n",
    "print(b)\n",
    "\n",
    "c=8\n",
    "c/=8\n",
    "print(c)\n",
    "\n",
    "d=10\n",
    "d*=8\n",
    "print(d)\n"
   ]
  },
  {
   "cell_type": "code",
   "execution_count": 52,
   "id": "d4de0da4-82df-4118-8e24-7a9030bffd17",
   "metadata": {},
   "outputs": [
    {
     "name": "stdout",
     "output_type": "stream",
     "text": [
      "1\n",
      "7\n",
      "6\n",
      "-6\n",
      "20\n",
      "1\n"
     ]
    }
   ],
   "source": [
    "#e- Bitwise operators:   it perform operations on bits and binary numbers.\n",
    "\n",
    "#examples:\n",
    "\n",
    "a=5   #binary 0101\n",
    "b=3   #binary 0011\n",
    "\n",
    "print(a & b)    #bitwise AND\n",
    "print(a | b)    #bitwise OR\n",
    "print(a ^ b)    #bitwise XOR\n",
    "print(~a)       #bitwise NOT\n",
    "print(a << 2)   #bitwise LEFT SHIFT\n",
    "print(a >> 2)   #bitwise RIGHT SHIFT"
   ]
  },
  {
   "cell_type": "code",
   "execution_count": 51,
   "id": "bea5eb06-28e6-4be9-b561-78c8e44392a9",
   "metadata": {},
   "outputs": [
    {
     "name": "stdout",
     "output_type": "stream",
     "text": [
      "True\n",
      "True\n",
      "False\n"
     ]
    }
   ],
   "source": [
    "#f- Membership operators:  when we want to know is any member present in (string, lists or tuples) : True/False.\n",
    "  \n",
    "\n",
    "#examples:\n",
    "\n",
    "a = \"saumya\"\n",
    "print(\"s\" in a )         #True: as \"s\" is in \"saumya\"\n",
    "print(\"k\" not in a )     #True: as \"k\" is not in \"saumya\"\n",
    "print(\"m\" not in a )     #False: as \"m\" is in \"saumya\""
   ]
  },
  {
   "cell_type": "code",
   "execution_count": 12,
   "id": "b104e0ce-1c35-42d4-bc2e-15354eb1e2af",
   "metadata": {},
   "outputs": [
    {
     "data": {
      "text/plain": [
       "False"
      ]
     },
     "execution_count": 12,
     "metadata": {},
     "output_type": "execute_result"
    }
   ],
   "source": [
    "#g- Identity operators:  compares the location of two object/variables: True/False.\n",
    "\n",
    "#examples:\n",
    "\n",
    "a=2\n",
    "b=3\n",
    "a is b"
   ]
  },
  {
   "cell_type": "code",
   "execution_count": 13,
   "id": "87683712-9c5a-4d01-b754-f6ec4353ee30",
   "metadata": {},
   "outputs": [
    {
     "data": {
      "text/plain": [
       "True"
      ]
     },
     "execution_count": 13,
     "metadata": {},
     "output_type": "execute_result"
    }
   ],
   "source": [
    "a is not b"
   ]
  },
  {
   "cell_type": "code",
   "execution_count": 14,
   "id": "5e0539bf-7ea2-4db1-8a5b-62c8604a0438",
   "metadata": {},
   "outputs": [
    {
     "data": {
      "text/plain": [
       "True"
      ]
     },
     "execution_count": 14,
     "metadata": {},
     "output_type": "execute_result"
    }
   ],
   "source": [
    "a=2\n",
    "b=a\n",
    "a is b"
   ]
  },
  {
   "cell_type": "code",
   "execution_count": 15,
   "id": "70b0d284-a8d2-447e-8f5f-5a373f0c9fc2",
   "metadata": {},
   "outputs": [
    {
     "name": "stdout",
     "output_type": "stream",
     "text": [
      "7.5\n"
     ]
    },
    {
     "data": {
      "text/plain": [
       "'Saumya_Kesarwani'"
      ]
     },
     "execution_count": 15,
     "metadata": {},
     "output_type": "execute_result"
    }
   ],
   "source": [
    "#5 Explain the concept of type casting in Python with examples\n",
    "\n",
    "\n",
    "#In Python, type casting (or type conversion) refers to the process of converting one data type into another.\n",
    "#Python provides several built-in functions for this purpose.\n",
    "#Here's an explanation with examples:\n",
    "\n",
    "\n",
    "#a- Implicit Type Conversion:   Python automatically converts data types in certain situations, such as when performing\n",
    "#operations between different types.\n",
    "\n",
    " # from int to float:\n",
    "    \n",
    "a=5         #int\n",
    "b=2.5       #float\n",
    "c=a+b       #int is converted to float before addition\n",
    "print(c)    #output: 7.5\n",
    "\n",
    "\n",
    "#b- Explicit Type Conversion:  convert the datatype by using inbuilt function(str,int,float,bool)\n",
    " #example:\n",
    "#concatination of str:  combine the string.\n",
    "\"Saumya\"+\"_Kesarwani\""
   ]
  },
  {
   "cell_type": "code",
   "execution_count": 16,
   "id": "bb1ec3cf-496a-49a0-bbbb-51d602b8916b",
   "metadata": {},
   "outputs": [
    {
     "data": {
      "text/plain": [
       "True"
      ]
     },
     "execution_count": 16,
     "metadata": {},
     "output_type": "execute_result"
    }
   ],
   "source": [
    "#bool: (True/False)\n",
    "bool(1)"
   ]
  },
  {
   "cell_type": "code",
   "execution_count": 17,
   "id": "e835fc29-1ba7-4e4b-8e80-0896b9eec66a",
   "metadata": {},
   "outputs": [
    {
     "data": {
      "text/plain": [
       "False"
      ]
     },
     "execution_count": 17,
     "metadata": {},
     "output_type": "execute_result"
    }
   ],
   "source": [
    "bool(0)"
   ]
  },
  {
   "cell_type": "code",
   "execution_count": 19,
   "id": "ef1faa6a-c075-4ae6-a7b9-72ae6f483366",
   "metadata": {},
   "outputs": [
    {
     "data": {
      "text/plain": [
       "int"
      ]
     },
     "execution_count": 19,
     "metadata": {},
     "output_type": "execute_result"
    }
   ],
   "source": [
    "type(1)"
   ]
  },
  {
   "cell_type": "code",
   "execution_count": 20,
   "id": "6470245f-7466-48d3-9c1f-d1c9045a0d34",
   "metadata": {},
   "outputs": [
    {
     "data": {
      "text/plain": [
       "1.0"
      ]
     },
     "execution_count": 20,
     "metadata": {},
     "output_type": "execute_result"
    }
   ],
   "source": [
    "#to convert into float\n",
    "float(1)"
   ]
  },
  {
   "cell_type": "code",
   "execution_count": 22,
   "id": "6fe860aa-8bd4-4f15-93cd-4005290ad79b",
   "metadata": {},
   "outputs": [
    {
     "ename": "ValueError",
     "evalue": "invalid literal for int() with base 10: 'saumya'",
     "output_type": "error",
     "traceback": [
      "\u001b[0;31m---------------------------------------------------------------------------\u001b[0m",
      "\u001b[0;31mValueError\u001b[0m                                Traceback (most recent call last)",
      "Cell \u001b[0;32mIn[22], line 3\u001b[0m\n\u001b[1;32m      1\u001b[0m \u001b[38;5;66;03m#character does't convert into number\u001b[39;00m\n\u001b[1;32m      2\u001b[0m a \u001b[38;5;241m=\u001b[39m \u001b[38;5;124m\"\u001b[39m\u001b[38;5;124msaumya\u001b[39m\u001b[38;5;124m\"\u001b[39m\n\u001b[0;32m----> 3\u001b[0m \u001b[38;5;28;43mint\u001b[39;49m\u001b[43m(\u001b[49m\u001b[43ma\u001b[49m\u001b[43m)\u001b[49m\n",
      "\u001b[0;31mValueError\u001b[0m: invalid literal for int() with base 10: 'saumya'"
     ]
    }
   ],
   "source": [
    "#character does't convert into number:  output: error\n",
    "a = \"saumya\"\n",
    "int(a)\n"
   ]
  },
  {
   "cell_type": "code",
   "execution_count": 7,
   "id": "68e39ce9-f6e7-4bdc-8e46-25b79251a2f3",
   "metadata": {},
   "outputs": [
    {
     "data": {
      "text/plain": [
       "False"
      ]
     },
     "execution_count": 7,
     "metadata": {},
     "output_type": "execute_result"
    }
   ],
   "source": [
    "bool (\"\") #empty string : False"
   ]
  },
  {
   "cell_type": "code",
   "execution_count": 8,
   "id": "1f49b61c-6a89-4963-aa2c-2b6604287fe2",
   "metadata": {},
   "outputs": [
    {
     "name": "stdout",
     "output_type": "stream",
     "text": [
      " The no. is greater than 0\n"
     ]
    }
   ],
   "source": [
    "#6- How do conditional statements work in Python? Illustrate with examples\n",
    "\n",
    "\n",
    "# Conditional statements in Python allow to make decisions in code based on whether certain conditions are true or false.\n",
    "# The primary conditional statements in Python are \"if\", \"if-else\" , \"if-elif-else\", \"nested if-else\".\n",
    "\n",
    "#here's the examples:\n",
    "\n",
    "#example no. 1 -\"if\" :\n",
    "#syntax\n",
    "#if condition True : block of code will be executed\n",
    "a=100\n",
    "if a>0:\n",
    "    print(\" The no. is greater than 0\")"
   ]
  },
  {
   "cell_type": "code",
   "execution_count": 12,
   "id": "3070eaa4-9cad-4fdf-bcac-b8e3a34a5769",
   "metadata": {},
   "outputs": [
    {
     "name": "stdout",
     "output_type": "stream",
     "text": [
      " saumya is in the b\n"
     ]
    }
   ],
   "source": [
    "b= \"saumya\"\n",
    "if b!= \"kesarwani\":\n",
    "    print (\" saumya is in the b\")"
   ]
  },
  {
   "cell_type": "code",
   "execution_count": 24,
   "id": "1d9d9aa0-f5f4-4004-926f-6ec524d59734",
   "metadata": {},
   "outputs": [
    {
     "name": "stdout",
     "output_type": "stream",
     "text": [
      "Even\n"
     ]
    }
   ],
   "source": [
    "#example no. 2 - \"if-else\" : \n",
    "\n",
    "num=4\n",
    "if num % 2 == 0 :\n",
    "    print (\"Even\")\n",
    "else:\n",
    "    print (\"odd\")"
   ]
  },
  {
   "cell_type": "code",
   "execution_count": 25,
   "id": "5ac5526e-2990-47bb-9f5b-9a525356cb12",
   "metadata": {},
   "outputs": [
    {
     "name": "stdout",
     "output_type": "stream",
     "text": [
      "I will not go\n"
     ]
    }
   ],
   "source": [
    "weather=(\"rainy\")\n",
    "if weather ==(\"sunny\"):\n",
    "    print (\"I will go\")\n",
    "else:\n",
    "    print (\"I will not go\")\n"
   ]
  },
  {
   "cell_type": "code",
   "execution_count": 33,
   "id": "6faf0992-a021-44d3-bdac-c9520d882c50",
   "metadata": {},
   "outputs": [
    {
     "name": "stdout",
     "output_type": "stream",
     "text": [
      " a<100 \n"
     ]
    }
   ],
   "source": [
    " #example no.3 - \"if-elif-else\" :\n",
    "\n",
    "a=10\n",
    "if a>100:\n",
    "    print (\" a>100 \")\n",
    "elif a<100:\n",
    "    print (\" a<100 \")\n",
    "else:\n",
    "    print (\" num=100 \")    "
   ]
  },
  {
   "cell_type": "code",
   "execution_count": 34,
   "id": "a81907d3-885a-4258-a800-2a216509b8e1",
   "metadata": {},
   "outputs": [
    {
     "name": "stdout",
     "output_type": "stream",
     "text": [
      " x !=>5\n"
     ]
    }
   ],
   "source": [
    "#example no. 4 - \"nested if-else\" :\n",
    "\n",
    "x=1\n",
    "y=6\n",
    "if x>5 :\n",
    "    if y>5 :\n",
    "        print (\" both x & y is > 5\")\n",
    "    else :\n",
    "        print (\" x is >5 but y is <5\")\n",
    "else :\n",
    "    print (\" x !=>5\")"
   ]
  },
  {
   "cell_type": "code",
   "execution_count": 35,
   "id": "2edbd62f-5b75-4c71-87ec-910f2c159450",
   "metadata": {},
   "outputs": [
    {
     "name": "stdout",
     "output_type": "stream",
     "text": [
      "apple\n",
      "banana\n",
      "cherry\n"
     ]
    }
   ],
   "source": [
    "#7- Describe the different types of loops in Python and their use cases with examples\n",
    "\n",
    "\n",
    "\n",
    "#In Python, there are mainly three types of loops: for loop, while loop, and nested loops. \n",
    "#Each type serves different purposes and is used depending on the specific requirements of the task at hand.\n",
    "\n",
    "#1. for loop :\n",
    "#The for loop in Python iterates over a sequence (such as a list, tuple, string, or other iterable objects) and\n",
    "#executes the block of code for each element in the sequence.\n",
    "#Syntax:\n",
    "#for element in sequence:\n",
    "# code block to be executed for each element\n",
    "\n",
    "#example:\n",
    "# Iterate over a list\n",
    "fruits = [\"apple\", \"banana\", \"cherry\"]\n",
    "for fruit in fruits:\n",
    "    print(fruit)"
   ]
  },
  {
   "cell_type": "code",
   "execution_count": 36,
   "id": "8ba44591-dfa0-40a4-b0a3-9450067c6815",
   "metadata": {},
   "outputs": [
    {
     "name": "stdout",
     "output_type": "stream",
     "text": [
      "h\n",
      "e\n",
      "l\n",
      "l\n",
      "o\n"
     ]
    }
   ],
   "source": [
    "# Iterate over a string\n",
    "for char in \"hello\":\n",
    "    print(char)"
   ]
  },
  {
   "cell_type": "code",
   "execution_count": 63,
   "id": "2fbc6fbc-7255-400c-b698-b37bb2860bca",
   "metadata": {},
   "outputs": [
    {
     "name": "stdout",
     "output_type": "stream",
     "text": [
      "1\n",
      "2\n",
      "3\n",
      "4\n",
      "5\n"
     ]
    }
   ],
   "source": [
    "#2.while loop :\n",
    "#The while loop in Python repeatedly executes a block of statements as long as a condition is true.\n",
    "#Syntax:\n",
    "#while condition:code block to be executed as long as condition is true\n",
    "#Example:\n",
    "# Print numbers from 1 to 5 using while loop\n",
    "num = 1\n",
    "while num <= 5:\n",
    "    print(num)\n",
    "    num += 1\n"
   ]
  },
  {
   "cell_type": "code",
   "execution_count": 64,
   "id": "8506116b-ccd6-47ec-8d32-c65050ab3c9f",
   "metadata": {},
   "outputs": [
    {
     "name": "stdout",
     "output_type": "stream",
     "text": [
      "(1, 1)\n",
      "(1, 2)\n",
      "(1, 3)\n",
      "(2, 1)\n",
      "(2, 2)\n",
      "(2, 3)\n",
      "(3, 1)\n",
      "(3, 2)\n",
      "(3, 3)\n"
     ]
    }
   ],
   "source": [
    "#3. Nested loop :\n",
    "#Python allows nesting of loops within one another. This means you can have a loop inside another loop.\n",
    "#Example:\n",
    "for i in range(1, 4):\n",
    "    for j in range(1, 4):\n",
    "        print(f\"({i}, {j})\")"
   ]
  },
  {
   "cell_type": "code",
   "execution_count": 65,
   "id": "351e4f7e-1258-4044-a16b-064881843851",
   "metadata": {},
   "outputs": [
    {
     "name": "stdout",
     "output_type": "stream",
     "text": [
      "1 * 1 = 1\n",
      "1 * 2 = 2\n",
      "1 * 3 = 3\n",
      "1 * 4 = 4\n",
      "1 * 5 = 5\n",
      "1 * 6 = 6\n",
      "1 * 7 = 7\n",
      "1 * 8 = 8\n",
      "1 * 9 = 9\n",
      "1 * 10 = 10\n",
      "2 * 1 = 2\n",
      "2 * 2 = 4\n",
      "2 * 3 = 6\n",
      "2 * 4 = 8\n",
      "2 * 5 = 10\n",
      "2 * 6 = 12\n",
      "2 * 7 = 14\n",
      "2 * 8 = 16\n",
      "2 * 9 = 18\n",
      "2 * 10 = 20\n",
      "3 * 1 = 3\n",
      "3 * 2 = 6\n",
      "3 * 3 = 9\n",
      "3 * 4 = 12\n",
      "3 * 5 = 15\n",
      "3 * 6 = 18\n",
      "3 * 7 = 21\n",
      "3 * 8 = 24\n",
      "3 * 9 = 27\n",
      "3 * 10 = 30\n",
      "4 * 1 = 4\n",
      "4 * 2 = 8\n",
      "4 * 3 = 12\n",
      "4 * 4 = 16\n",
      "4 * 5 = 20\n",
      "4 * 6 = 24\n",
      "4 * 7 = 28\n",
      "4 * 8 = 32\n",
      "4 * 9 = 36\n",
      "4 * 10 = 40\n",
      "5 * 1 = 5\n",
      "5 * 2 = 10\n",
      "5 * 3 = 15\n",
      "5 * 4 = 20\n",
      "5 * 5 = 25\n",
      "5 * 6 = 30\n",
      "5 * 7 = 35\n",
      "5 * 8 = 40\n",
      "5 * 9 = 45\n",
      "5 * 10 = 50\n",
      "6 * 1 = 6\n",
      "6 * 2 = 12\n",
      "6 * 3 = 18\n",
      "6 * 4 = 24\n",
      "6 * 5 = 30\n",
      "6 * 6 = 36\n",
      "6 * 7 = 42\n",
      "6 * 8 = 48\n",
      "6 * 9 = 54\n",
      "6 * 10 = 60\n",
      "7 * 1 = 7\n",
      "7 * 2 = 14\n",
      "7 * 3 = 21\n",
      "7 * 4 = 28\n",
      "7 * 5 = 35\n",
      "7 * 6 = 42\n",
      "7 * 7 = 49\n",
      "7 * 8 = 56\n",
      "7 * 9 = 63\n",
      "7 * 10 = 70\n",
      "8 * 1 = 8\n",
      "8 * 2 = 16\n",
      "8 * 3 = 24\n",
      "8 * 4 = 32\n",
      "8 * 5 = 40\n",
      "8 * 6 = 48\n",
      "8 * 7 = 56\n",
      "8 * 8 = 64\n",
      "8 * 9 = 72\n",
      "8 * 10 = 80\n",
      "9 * 1 = 9\n",
      "9 * 2 = 18\n",
      "9 * 3 = 27\n",
      "9 * 4 = 36\n",
      "9 * 5 = 45\n",
      "9 * 6 = 54\n",
      "9 * 7 = 63\n",
      "9 * 8 = 72\n",
      "9 * 9 = 81\n",
      "9 * 10 = 90\n",
      "10 * 1 = 10\n",
      "10 * 2 = 20\n",
      "10 * 3 = 30\n",
      "10 * 4 = 40\n",
      "10 * 5 = 50\n",
      "10 * 6 = 60\n",
      "10 * 7 = 70\n",
      "10 * 8 = 80\n",
      "10 * 9 = 90\n",
      "10 * 10 = 100\n"
     ]
    }
   ],
   "source": [
    "#Example combining loops: Multiplication table using nested loops\n",
    "for i in range(1, 11):\n",
    "    for j in range(1, 11):\n",
    "        print(f\"{i} * {j} = {i * j}\")"
   ]
  },
  {
   "cell_type": "code",
   "execution_count": null,
   "id": "6352c9e3-ff26-4301-a951-b36a2a2cfabd",
   "metadata": {},
   "outputs": [],
   "source": []
  }
 ],
 "metadata": {
  "kernelspec": {
   "display_name": "Python 3 (ipykernel)",
   "language": "python",
   "name": "python3"
  },
  "language_info": {
   "codemirror_mode": {
    "name": "ipython",
    "version": 3
   },
   "file_extension": ".py",
   "mimetype": "text/x-python",
   "name": "python",
   "nbconvert_exporter": "python",
   "pygments_lexer": "ipython3",
   "version": "3.10.8"
  }
 },
 "nbformat": 4,
 "nbformat_minor": 5
}
